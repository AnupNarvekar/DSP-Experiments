{
  "nbformat": 4,
  "nbformat_minor": 0,
  "metadata": {
    "colab": {
      "name": "DSP Expt 5: Overlap save Convolution.ipynb",
      "provenance": [],
      "collapsed_sections": []
    },
    "kernelspec": {
      "name": "python3",
      "display_name": "Python 3"
    },
    "language_info": {
      "name": "python"
    }
  },
  "cells": [
    {
      "cell_type": "code",
      "metadata": {
        "id": "mWHgWDa9go3B"
      },
      "source": [
        "import numpy as np"
      ],
      "execution_count": null,
      "outputs": []
    },
    {
      "cell_type": "code",
      "metadata": {
        "id": "2ArJ3anei3hB"
      },
      "source": [
        "## Entering x(n) and h(n)\n",
        "\n",
        "# x = list( map(int,input('Enter the sequence x(n): ').split()) )   ## x = [1, 3, 2, -3, 0, 2, -1, 0, -2, 3, -2, 1]  \n",
        "# h = list( map(int,input('Enter the sequence h(n): ').split()) )   ## h = [1, 0, 1]\n",
        "\n",
        "x = [1, 3, 2, -3, 0, 2, -1, 0, -2, 3, -2, 1]\n",
        "\n",
        "h = [1, 0, 1]\n",
        "\n",
        "N=4\n",
        "M=len(h)\n",
        "L = N-M+1"
      ],
      "execution_count": null,
      "outputs": []
    },
    {
      "cell_type": "code",
      "metadata": {
        "id": "a2c4OH4NhYhE"
      },
      "source": [
        "def split_Sequence(x, seqLen, L):\n",
        "  \n",
        "  zerosToPadd = M-1\n",
        "\n",
        "  k = x\n",
        "  for a in range (zerosToPadd):\n",
        "    k.insert(0,0)\n",
        "    k.append(0)\n",
        "  \n",
        "  temp = []\n",
        "  start = 0\n",
        "  end = seqLen\n",
        "\n",
        "  while (end != len(x)+L):\n",
        "    sequence = x[start : end]\n",
        "    temp.append(sequence)\n",
        "\n",
        "    start += L\n",
        "    end += L\n",
        "\n",
        "  targetArray = np.array(temp)\n",
        "  # targetArray = targetArray.reshape((iterations, seqLen))\n",
        "\n",
        "  return targetArray"
      ],
      "execution_count": null,
      "outputs": []
    },
    {
      "cell_type": "code",
      "metadata": {
        "colab": {
          "base_uri": "https://localhost:8080/"
        },
        "id": "fMAsGz9mqvU4",
        "outputId": "29fbb308-f1e1-49be-a643-0b9a9e1d196f"
      },
      "source": [
        "x = split_Sequence(x, N, L)\n",
        "x"
      ],
      "execution_count": null,
      "outputs": [
        {
          "output_type": "execute_result",
          "data": {
            "text/plain": [
              "array([[ 0,  0,  1,  3],\n",
              "       [ 1,  3,  2, -3],\n",
              "       [ 2, -3,  0,  2],\n",
              "       [ 0,  2, -1,  0],\n",
              "       [-1,  0, -2,  3],\n",
              "       [-2,  3, -2,  1],\n",
              "       [-2,  1,  0,  0]])"
            ]
          },
          "metadata": {
            "tags": []
          },
          "execution_count": 4
        }
      ]
    },
    {
      "cell_type": "code",
      "metadata": {
        "id": "CKCEtmIfxi0x"
      },
      "source": [
        "## Function to handle size of h\n",
        "\n",
        "def handleSize(h):\n",
        "  if (len(h) != N):\n",
        "\n",
        "    for i in range (L-1):\n",
        "      h.append(0)\n",
        "\n",
        "  return h"
      ],
      "execution_count": null,
      "outputs": []
    },
    {
      "cell_type": "code",
      "metadata": {
        "colab": {
          "base_uri": "https://localhost:8080/"
        },
        "id": "qp1WgPyNr_1c",
        "outputId": "8b83e5a3-07e5-426d-bbe6-fb451ac969c5"
      },
      "source": [
        "h = handleSize(h) \n",
        "print('h:', h)"
      ],
      "execution_count": null,
      "outputs": [
        {
          "output_type": "stream",
          "text": [
            "h: [1, 0, 1, 0]\n"
          ],
          "name": "stdout"
        }
      ]
    },
    {
      "cell_type": "code",
      "metadata": {
        "id": "20Oo2i3vr_Gg",
        "colab": {
          "base_uri": "https://localhost:8080/"
        },
        "outputId": "e6f3b341-2a95-460c-f664-fa37ee4424e6"
      },
      "source": [
        "h = np.array(h)\n",
        "h = h.reshape((1, len(h)))\n",
        "h.shape"
      ],
      "execution_count": null,
      "outputs": [
        {
          "output_type": "execute_result",
          "data": {
            "text/plain": [
              "(1, 4)"
            ]
          },
          "metadata": {
            "tags": []
          },
          "execution_count": 7
        }
      ]
    },
    {
      "cell_type": "code",
      "metadata": {
        "id": "mWg94PM78QUP"
      },
      "source": [
        "## Function to creating circular convolution matrix for h\n",
        "\n",
        "def handelMatrix(x):\n",
        "  temp = []\n",
        "  for i in range (x.size):\n",
        "    temp.append(np.roll(x, i))\n",
        "\n",
        "  arr = np.array(temp)\n",
        "  arr = arr.reshape((x.size, x.size)).T\n",
        "\n",
        "  return arr"
      ],
      "execution_count": null,
      "outputs": []
    },
    {
      "cell_type": "code",
      "metadata": {
        "colab": {
          "base_uri": "https://localhost:8080/"
        },
        "id": "WWNSX75m8TSC",
        "outputId": "e9f1627a-d230-406a-b185-76f84ed571f5"
      },
      "source": [
        "h = handelMatrix(h)\n",
        "h"
      ],
      "execution_count": null,
      "outputs": [
        {
          "output_type": "execute_result",
          "data": {
            "text/plain": [
              "array([[1, 0, 1, 0],\n",
              "       [0, 1, 0, 1],\n",
              "       [1, 0, 1, 0],\n",
              "       [0, 1, 0, 1]])"
            ]
          },
          "metadata": {
            "tags": []
          },
          "execution_count": 9
        }
      ]
    },
    {
      "cell_type": "code",
      "metadata": {
        "colab": {
          "base_uri": "https://localhost:8080/"
        },
        "id": "yY5dP9GR_LUD",
        "outputId": "66300539-8d8d-4568-9799-1ce846c7f9ca"
      },
      "source": [
        "y = h@x[0].T\n",
        "y = y.reshape((1, y.size))\n",
        "y.shape\n",
        "\n",
        "print('y:', y)"
      ],
      "execution_count": null,
      "outputs": [
        {
          "output_type": "stream",
          "text": [
            "y: [[1 3 1 3]]\n"
          ],
          "name": "stdout"
        }
      ]
    },
    {
      "cell_type": "code",
      "metadata": {
        "id": "qS4Iztd68alb"
      },
      "source": [
        "## Performing Circular Convolution\n",
        "\n",
        "def circularConvolution(x, h):\n",
        "\n",
        "  output = []\n",
        "  rows, cols = x.shape\n",
        "\n",
        "  for i in range (rows):\n",
        "    val = h@x[i].T\n",
        "    val = val.reshape((1, val.size))\n",
        "\n",
        "    output.append(val)\n",
        "\n",
        "  y = np.array(output)\n",
        "\n",
        "  return y.reshape(rows, cols)"
      ],
      "execution_count": null,
      "outputs": []
    },
    {
      "cell_type": "code",
      "metadata": {
        "colab": {
          "base_uri": "https://localhost:8080/"
        },
        "id": "HMzkiorr9wLG",
        "outputId": "e2407a21-cc89-4f0c-cb4d-340608c15a1b"
      },
      "source": [
        "y = circularConvolution(x, h)\n",
        "y"
      ],
      "execution_count": null,
      "outputs": [
        {
          "output_type": "execute_result",
          "data": {
            "text/plain": [
              "array([[ 1,  3,  1,  3],\n",
              "       [ 3,  0,  3,  0],\n",
              "       [ 2, -1,  2, -1],\n",
              "       [-1,  2, -1,  2],\n",
              "       [-3,  3, -3,  3],\n",
              "       [-4,  4, -4,  4],\n",
              "       [-2,  1, -2,  1]])"
            ]
          },
          "metadata": {
            "tags": []
          },
          "execution_count": 12
        }
      ]
    },
    {
      "cell_type": "code",
      "metadata": {
        "colab": {
          "base_uri": "https://localhost:8080/"
        },
        "id": "h6JGQoLVCUCX",
        "outputId": "313e9a10-544e-4b48-ebb2-500b28cf65e0"
      },
      "source": [
        "y = np.array(y[:, 0:(M-1)])\n",
        "y = y.flatten()\n",
        "print('y: ', y)"
      ],
      "execution_count": null,
      "outputs": [
        {
          "output_type": "stream",
          "text": [
            "y:  [ 1  3  3  0  2 -1 -1  2 -3  3 -4  4 -2  1]\n"
          ],
          "name": "stdout"
        }
      ]
    }
  ]
}