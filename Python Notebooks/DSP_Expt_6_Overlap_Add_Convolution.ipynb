{
  "nbformat": 4,
  "nbformat_minor": 0,
  "metadata": {
    "colab": {
      "name": "DSP Expt 6: Overlap Add Cpnvolution.ipynb",
      "provenance": [],
      "collapsed_sections": []
    },
    "kernelspec": {
      "name": "python3",
      "display_name": "Python 3.9.6 64-bit"
    },
    "language_info": {
      "name": "python",
      "version": "3.9.6"
    },
    "interpreter": {
      "hash": "14e607f32372580933448cbeb63cbbffc7dd2d91a113db0f3cdbf3b1c53a5460"
    }
  },
  "cells": [
    {
      "cell_type": "code",
      "metadata": {
        "id": "mWHgWDa9go3B"
      },
      "source": [
        "import numpy as np"
      ],
      "execution_count": 37,
      "outputs": []
    },
    {
      "cell_type": "code",
      "metadata": {
        "id": "2ArJ3anei3hB"
      },
      "source": [
        "## Entering x(n) and h(n)\n",
        "\n",
        "# x = list( map(int,input('Enter the sequence x(n): ').split()) )   ## x = [1, 3, 2, -3, 0, 2, -1, 0, -2, 3, -2, 1]  \n",
        "# h = list( map(int,input('Enter the sequence h(n): ').split()) )   ## h = [1, 0, 1]\n",
        "\n",
        "x = [1, 3, 2, -3, 0, 2, -1, 0, -2, 3, -2, 1]  \n",
        "h = [1, 0, 1]\n",
        "\n",
        "N=4\n",
        "M=len(h)\n",
        "\n",
        "L = N-M+1"
      ],
      "execution_count": 38,
      "outputs": []
    },
    {
      "cell_type": "code",
      "metadata": {
        "id": "a2c4OH4NhYhE"
      },
      "source": [
        "def split_Sequence(x, seqLen, L):\n",
        "  \n",
        "  iterations = int(len(x)/L)\n",
        "  zerosToPadd = M-1\n",
        "\n",
        "  temp = []\n",
        "  start = 0\n",
        "  end = L\n",
        "\n",
        "  for i in range(iterations):\n",
        "    sequence = x[start : end]\n",
        "\n",
        "    arr = sequence\n",
        "    for j in range (zerosToPadd):\n",
        "      arr.append(0)\n",
        "\n",
        "    temp.append(arr)\n",
        "\n",
        "    start += L\n",
        "    end += L\n",
        "\n",
        "  targetArray = np.array(temp)\n",
        "  targetArray = targetArray.reshape((iterations, seqLen))\n",
        "\n",
        "  return targetArray"
      ],
      "execution_count": 39,
      "outputs": []
    },
    {
      "cell_type": "code",
      "metadata": {
        "colab": {
          "base_uri": "https://localhost:8080/"
        },
        "id": "fMAsGz9mqvU4",
        "outputId": "a4fda1de-3d1c-49b6-d42d-37fa56d162f0"
      },
      "source": [
        "x = split_Sequence(x, N, L)\n",
        "x"
      ],
      "execution_count": 40,
      "outputs": [
        {
          "output_type": "execute_result",
          "data": {
            "text/plain": [
              "array([[ 1,  3,  0,  0],\n",
              "       [ 2, -3,  0,  0],\n",
              "       [ 0,  2,  0,  0],\n",
              "       [-1,  0,  0,  0],\n",
              "       [-2,  3,  0,  0],\n",
              "       [-2,  1,  0,  0]])"
            ]
          },
          "metadata": {},
          "execution_count": 40
        }
      ]
    },
    {
      "cell_type": "code",
      "metadata": {
        "id": "CKCEtmIfxi0x"
      },
      "source": [
        "## Function to handle size of h\n",
        "\n",
        "def handleSize(h):\n",
        "  if (len(h) != N):\n",
        "\n",
        "    for i in range (L-1):\n",
        "      h.append(0)\n",
        "\n",
        "  return h"
      ],
      "execution_count": 41,
      "outputs": []
    },
    {
      "cell_type": "code",
      "metadata": {
        "colab": {
          "base_uri": "https://localhost:8080/"
        },
        "id": "qp1WgPyNr_1c",
        "outputId": "74f25a92-668f-4898-f22d-22cb91c10e13"
      },
      "source": [
        "h = handleSize(h) \n",
        "print('h:', h)"
      ],
      "execution_count": 42,
      "outputs": [
        {
          "output_type": "stream",
          "name": "stdout",
          "text": [
            "h: [1, 0, 1, 0]\n"
          ]
        }
      ]
    },
    {
      "cell_type": "code",
      "metadata": {
        "colab": {
          "base_uri": "https://localhost:8080/"
        },
        "id": "c86vXEpV96wR",
        "outputId": "475e6e51-3181-4ed1-dd88-2bd2014a64d1"
      },
      "source": [
        "h = np.array(h)\n",
        "h = h.reshape((1, len(h)))\n",
        "h.shape"
      ],
      "execution_count": 43,
      "outputs": [
        {
          "output_type": "execute_result",
          "data": {
            "text/plain": [
              "(1, 4)"
            ]
          },
          "metadata": {},
          "execution_count": 43
        }
      ]
    },
    {
      "cell_type": "code",
      "metadata": {
        "id": "spIts_QL97YV"
      },
      "source": [
        "## Function to creating circular convolution matrix for h\n",
        "\n",
        "def handelMatrix(x):\n",
        "  temp = []\n",
        "  for i in range (x.size):\n",
        "    temp.append(np.roll(x, i))\n",
        "\n",
        "  arr = np.array(temp)\n",
        "  arr = arr.reshape((x.size, x.size)).T\n",
        "\n",
        "  return arr"
      ],
      "execution_count": 44,
      "outputs": []
    },
    {
      "cell_type": "code",
      "metadata": {
        "colab": {
          "base_uri": "https://localhost:8080/"
        },
        "id": "KEVuKJsv9_he",
        "outputId": "d9c012bf-ee68-45f6-c8cc-e41c228dca34"
      },
      "source": [
        "h = handelMatrix(h)\n",
        "h"
      ],
      "execution_count": 45,
      "outputs": [
        {
          "output_type": "execute_result",
          "data": {
            "text/plain": [
              "array([[1, 0, 1, 0],\n",
              "       [0, 1, 0, 1],\n",
              "       [1, 0, 1, 0],\n",
              "       [0, 1, 0, 1]])"
            ]
          },
          "metadata": {},
          "execution_count": 45
        }
      ]
    },
    {
      "cell_type": "code",
      "metadata": {
        "id": "20Oo2i3vr_Gg"
      },
      "source": [
        "## Performing Circular Convolution\n",
        "\n",
        "def circularConvolution(x, h):\n",
        "\n",
        "  output = []\n",
        "  rows, cols = x.shape\n",
        "\n",
        "  for i in range (rows):\n",
        "    val = h@x[i].T\n",
        "    val = val.reshape((1, val.size))\n",
        "\n",
        "    output.append(val)\n",
        "\n",
        "  y = np.array(output)\n",
        "  y = y.reshape(rows, cols)\n",
        "\n",
        "  return y"
      ],
      "execution_count": 46,
      "outputs": []
    },
    {
      "cell_type": "code",
      "metadata": {
        "colab": {
          "base_uri": "https://localhost:8080/"
        },
        "id": "GFh2TqYl7XgW",
        "outputId": "9d056c90-6109-4ec3-b178-da74d47e4c05"
      },
      "source": [
        "y = circularConvolution(x, h)\n",
        "y"
      ],
      "execution_count": 47,
      "outputs": [
        {
          "output_type": "execute_result",
          "data": {
            "text/plain": [
              "array([[ 1,  3,  1,  3],\n",
              "       [ 2, -3,  2, -3],\n",
              "       [ 0,  2,  0,  2],\n",
              "       [-1,  0, -1,  0],\n",
              "       [-2,  3, -2,  3],\n",
              "       [-2,  1, -2,  1]])"
            ]
          },
          "metadata": {},
          "execution_count": 47
        }
      ]
    },
    {
      "cell_type": "code",
      "execution_count": 48,
      "metadata": {},
      "outputs": [],
      "source": [
        "def output(y, M):\n",
        "    y1 = np.array(y[:, 0:(M-1)])\n",
        "    y1 = y1.flatten()\n",
        "\n",
        "    temp = np.array(y1[0:(M-1)])\n",
        "    temp = temp.flatten()\n",
        "\n",
        "    y2 = np.concatenate((temp, y1))\n",
        "\n",
        "    result = y1.copy()\n",
        "    result[0:(M-1)] = 0\n",
        "\n",
        "    for i in range (M-1):\n",
        "        result = np.append(result, 0)\n",
        "    \n",
        "        result = result.flatten()\n",
        "\n",
        "    ans = np.add(y2, result)\n",
        "\n",
        "    return ans"
      ]
    },
    {
      "cell_type": "code",
      "execution_count": 49,
      "metadata": {},
      "outputs": [
        {
          "output_type": "stream",
          "name": "stdout",
          "text": [
            "y:  [ 1  3  3  0  2 -1 -1  2 -3  3 -4  4 -2  1]\n"
          ]
        }
      ],
      "source": [
        "result = output(y, M)\n",
        "print('y: ',result)"
      ]
    }
  ]
}