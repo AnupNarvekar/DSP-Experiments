{
  "nbformat": 4,
  "nbformat_minor": 0,
  "metadata": {
    "colab": {
      "name": "DSP Expt 7: DFT.ipynb",
      "provenance": []
    },
    "kernelspec": {
      "name": "python3",
      "display_name": "Python 3"
    },
    "language_info": {
      "name": "python"
    }
  },
  "cells": [
    {
      "cell_type": "code",
      "metadata": {
        "id": "5S-ImYaVn2Tk"
      },
      "source": [
        "import numpy as np"
      ],
      "execution_count": null,
      "outputs": []
    },
    {
      "cell_type": "markdown",
      "metadata": {
        "id": "dpWOkei45rlt"
      },
      "source": [
        "**Input sequence x(n)**"
      ]
    },
    {
      "cell_type": "code",
      "metadata": {
        "colab": {
          "base_uri": "https://localhost:8080/"
        },
        "id": "570KL_b0n8a6",
        "outputId": "32458223-971b-43a1-8078-538b29096b58"
      },
      "source": [
        "x = list( map(int, input('Enter the sequence x(n): ').split() )  )  # x=[1,2,3,4]"
      ],
      "execution_count": null,
      "outputs": [
        {
          "output_type": "stream",
          "text": [
            "Enter the sequence x(n): 1 2 3 4\n"
          ],
          "name": "stdout"
        }
      ]
    },
    {
      "cell_type": "code",
      "metadata": {
        "colab": {
          "base_uri": "https://localhost:8080/"
        },
        "id": "Pe1fBMK4n8j7",
        "outputId": "34cf39f9-d0e4-40c6-ced2-b46db62863de"
      },
      "source": [
        "x = np.array(x)\n",
        "x = x.reshape((1,4))\n",
        "x"
      ],
      "execution_count": null,
      "outputs": [
        {
          "output_type": "execute_result",
          "data": {
            "text/plain": [
              "array([[1, 2, 3, 4]])"
            ]
          },
          "metadata": {
            "tags": []
          },
          "execution_count": 15
        }
      ]
    },
    {
      "cell_type": "code",
      "metadata": {
        "colab": {
          "base_uri": "https://localhost:8080/"
        },
        "id": "ZEXFyA7Vn8sj",
        "outputId": "4827ef84-fd8d-4abf-dc94-59ce6fd37190"
      },
      "source": [
        "w = np.array([1,1,1,1,  1,-1j,-1,1j,  1,-1,1,-1,  1,1j,-1,-1j])\n",
        "w = w.reshape((4,4))\n",
        "w"
      ],
      "execution_count": null,
      "outputs": [
        {
          "output_type": "execute_result",
          "data": {
            "text/plain": [
              "array([[ 1.+0.j,  1.+0.j,  1.+0.j,  1.+0.j],\n",
              "       [ 1.+0.j, -0.-1.j, -1.+0.j,  0.+1.j],\n",
              "       [ 1.+0.j, -1.+0.j,  1.+0.j, -1.+0.j],\n",
              "       [ 1.+0.j,  0.+1.j, -1.+0.j, -0.-1.j]])"
            ]
          },
          "metadata": {
            "tags": []
          },
          "execution_count": 16
        }
      ]
    },
    {
      "cell_type": "code",
      "metadata": {
        "colab": {
          "base_uri": "https://localhost:8080/"
        },
        "id": "sU29pjAgsrH2",
        "outputId": "6f325d17-95cd-4425-ae04-fb54fd0a66c2"
      },
      "source": [
        "X = x@w\n",
        "X"
      ],
      "execution_count": null,
      "outputs": [
        {
          "output_type": "execute_result",
          "data": {
            "text/plain": [
              "array([[10.+0.j, -2.+2.j, -2.+0.j, -2.-2.j]])"
            ]
          },
          "metadata": {
            "tags": []
          },
          "execution_count": 17
        }
      ]
    },
    {
      "cell_type": "code",
      "metadata": {
        "colab": {
          "base_uri": "https://localhost:8080/"
        },
        "id": "wdkmKGLk5hcG",
        "outputId": "50e680ff-e3a1-45d7-ad6e-212c937eb9e4"
      },
      "source": [
        "for index, value in enumerate(X[0]) :\n",
        "  print('X(', index, ') = ', value )"
      ],
      "execution_count": null,
      "outputs": [
        {
          "output_type": "stream",
          "text": [
            "X( 0 ) =  (10+0j)\n",
            "X( 1 ) =  (-2+2j)\n",
            "X( 2 ) =  (-2+0j)\n",
            "X( 3 ) =  (-2-2j)\n"
          ],
          "name": "stdout"
        }
      ]
    }
  ]
}