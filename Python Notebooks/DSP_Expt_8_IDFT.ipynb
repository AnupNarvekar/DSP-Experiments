{
  "nbformat": 4,
  "nbformat_minor": 0,
  "metadata": {
    "colab": {
      "name": "DSP Expt 8: IDFT.ipynb",
      "provenance": []
    },
    "kernelspec": {
      "name": "python3",
      "display_name": "Python 3"
    },
    "language_info": {
      "name": "python"
    }
  },
  "cells": [
    {
      "cell_type": "code",
      "metadata": {
        "id": "r1NOR7ODwqXd"
      },
      "source": [
        "import numpy as np"
      ],
      "execution_count": null,
      "outputs": []
    },
    {
      "cell_type": "code",
      "metadata": {
        "colab": {
          "base_uri": "https://localhost:8080/"
        },
        "id": "7AdwtrAjudDk",
        "outputId": "5f6c56aa-c7a6-4ebf-dc76-bf31109bf3b1"
      },
      "source": [
        "X = list( map(complex, input('Enter the sequence x(n): ').split() )  )  # X = 10.+0.j -2.+2.j -2.+0.j -2.-2.j"
      ],
      "execution_count": null,
      "outputs": [
        {
          "output_type": "stream",
          "text": [
            "Enter the sequence x(n): 10.+0.j -2.+2.j -2.+0.j -2.-2.j\n"
          ],
          "name": "stdout"
        }
      ]
    },
    {
      "cell_type": "code",
      "metadata": {
        "colab": {
          "base_uri": "https://localhost:8080/"
        },
        "id": "2QVTt3qfvIPG",
        "outputId": "523cb1ad-a9b4-41fd-a317-d7cad1ac3fc8"
      },
      "source": [
        "X = np.array(X)\n",
        "X = X.reshape((1,4))\n",
        "X"
      ],
      "execution_count": null,
      "outputs": [
        {
          "output_type": "execute_result",
          "data": {
            "text/plain": [
              "array([[10.+0.j, -2.+2.j, -2.+0.j, -2.-2.j]])"
            ]
          },
          "metadata": {
            "tags": []
          },
          "execution_count": 42
        }
      ]
    },
    {
      "cell_type": "code",
      "metadata": {
        "colab": {
          "base_uri": "https://localhost:8080/"
        },
        "id": "SPINWEA2vIUy",
        "outputId": "f6f02ae2-3a87-4056-d105-333b363d109a"
      },
      "source": [
        "w = np.array([1,1,1,1,  1,1j,-1,-1j,  1,-1,1,-1,  1,-1j,-1,1j])\n",
        "w = w.reshape((4,4))\n",
        "w"
      ],
      "execution_count": null,
      "outputs": [
        {
          "output_type": "execute_result",
          "data": {
            "text/plain": [
              "array([[ 1.+0.j,  1.+0.j,  1.+0.j,  1.+0.j],\n",
              "       [ 1.+0.j,  0.+1.j, -1.+0.j, -0.-1.j],\n",
              "       [ 1.+0.j, -1.+0.j,  1.+0.j, -1.+0.j],\n",
              "       [ 1.+0.j, -0.-1.j, -1.+0.j,  0.+1.j]])"
            ]
          },
          "metadata": {
            "tags": []
          },
          "execution_count": 43
        }
      ]
    },
    {
      "cell_type": "code",
      "metadata": {
        "colab": {
          "base_uri": "https://localhost:8080/"
        },
        "id": "ORpOPgCWvIcn",
        "outputId": "29509b84-0fcf-4c7c-eab1-f0d77b0a096d"
      },
      "source": [
        "x = 0.25*(X@w)\n",
        "x"
      ],
      "execution_count": null,
      "outputs": [
        {
          "output_type": "execute_result",
          "data": {
            "text/plain": [
              "array([[1.+0.j, 2.+0.j, 3.+0.j, 4.+0.j]])"
            ]
          },
          "metadata": {
            "tags": []
          },
          "execution_count": 44
        }
      ]
    },
    {
      "cell_type": "code",
      "metadata": {
        "colab": {
          "base_uri": "https://localhost:8080/"
        },
        "id": "bigbqt7ovIlp",
        "outputId": "c8c2f54a-90f7-4cdb-95d0-979435025057"
      },
      "source": [
        "for index, value in enumerate(x[0]) :\n",
        "  print('x(', index, ') = ', value )"
      ],
      "execution_count": null,
      "outputs": [
        {
          "output_type": "stream",
          "text": [
            "x( 0 ) =  (1+0j)\n",
            "x( 1 ) =  (2+0j)\n",
            "x( 2 ) =  (3+0j)\n",
            "x( 3 ) =  (4+0j)\n"
          ],
          "name": "stdout"
        }
      ]
    }
  ]
}