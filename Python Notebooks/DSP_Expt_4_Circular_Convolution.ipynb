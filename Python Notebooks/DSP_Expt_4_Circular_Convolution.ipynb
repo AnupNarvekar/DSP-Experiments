{
  "nbformat": 4,
  "nbformat_minor": 0,
  "metadata": {
    "colab": {
      "name": "DSP Expt 4:  Circular Convolution.ipynb",
      "provenance": [],
      "collapsed_sections": []
    },
    "kernelspec": {
      "name": "python3",
      "display_name": "Python 3"
    },
    "language_info": {
      "name": "python"
    }
  },
  "cells": [
    {
      "cell_type": "code",
      "metadata": {
        "id": "ASyO5E3LtwGy"
      },
      "source": [
        "import numpy as np"
      ],
      "execution_count": null,
      "outputs": []
    },
    {
      "cell_type": "code",
      "metadata": {
        "id": "FAcudan6FN5v",
        "colab": {
          "base_uri": "https://localhost:8080/"
        },
        "outputId": "c0b5a83c-e4af-4da9-87a5-ca63eb254c86"
      },
      "source": [
        "## Entering x(n) and h(n)\n",
        "\n",
        "x = list( map(int,input('Enter the sequence x(n): ').split()) )   ## x = [1, 2, 3, 4]  =>  y = [4, 11, 18, 25, 12]\n",
        "h = list( map(int,input('Enter the sequence h(n): ').split()) )   ## h = [4, 3]"
      ],
      "execution_count": null,
      "outputs": [
        {
          "output_type": "stream",
          "text": [
            "Enter the sequence x(n): 1 2 3 4\n",
            "Enter the sequence h(n): 4 3\n"
          ],
          "name": "stdout"
        }
      ]
    },
    {
      "cell_type": "code",
      "metadata": {
        "id": "NATAL1tjV1da"
      },
      "source": [
        "## Function to handle size of the input signals  (Both should be equal)\n",
        "\n",
        "def handleSize(x, h):\n",
        "  if (len(x) != len(h)):\n",
        "    targetSize = len(x)+len(h)-1\n",
        "\n",
        "    while(len(x) != targetSize):\n",
        "      x.append(0)\n",
        "    \n",
        "    while(len(h) != targetSize):\n",
        "      h.append(0)"
      ],
      "execution_count": null,
      "outputs": []
    },
    {
      "cell_type": "code",
      "metadata": {
        "colab": {
          "base_uri": "https://localhost:8080/"
        },
        "id": "q6BbqAH3rh84",
        "outputId": "89cea1f3-ff2a-491a-b78f-b2d8ee9903ec"
      },
      "source": [
        "handleSize(x, h)\n",
        "\n",
        "print('x:',x,'\\t','h: ',h)"
      ],
      "execution_count": null,
      "outputs": [
        {
          "output_type": "stream",
          "text": [
            "x: [1, 2, 3, 4, 0] \t h:  [4, 3, 0, 0, 0]\n"
          ],
          "name": "stdout"
        }
      ]
    },
    {
      "cell_type": "code",
      "metadata": {
        "id": "z1b5CCVZtnBV"
      },
      "source": [
        "## Reshaping x and h for matrix multiplication\n",
        "\n",
        "x = np.array(x)\n",
        "x = x.reshape((len(x), 1))\n",
        "\n",
        "h = np.array(h)\n",
        "h = h.reshape((1, len(h)))"
      ],
      "execution_count": null,
      "outputs": []
    },
    {
      "cell_type": "code",
      "metadata": {
        "id": "tH0jUcWyOTvN"
      },
      "source": [
        "## Function to creating circular convolution matrix for h\n",
        "\n",
        "def handelMatrix(x):\n",
        "  temp = []\n",
        "  for i in range (x.size):\n",
        "    temp.append(np.roll(x, i))\n",
        "\n",
        "  arr = np.array(temp)\n",
        "  arr = arr.reshape((x.size, x.size)).T\n",
        "\n",
        "  return arr"
      ],
      "execution_count": null,
      "outputs": []
    },
    {
      "cell_type": "code",
      "metadata": {
        "colab": {
          "base_uri": "https://localhost:8080/"
        },
        "id": "S1Y9_ddjVHmH",
        "outputId": "63d63a05-2d8b-4668-984b-7d591f1f6530"
      },
      "source": [
        "h = handelMatrix(h)\n",
        "h"
      ],
      "execution_count": null,
      "outputs": [
        {
          "output_type": "execute_result",
          "data": {
            "text/plain": [
              "array([[4, 0, 0, 0, 3],\n",
              "       [3, 4, 0, 0, 0],\n",
              "       [0, 3, 4, 0, 0],\n",
              "       [0, 0, 3, 4, 0],\n",
              "       [0, 0, 0, 3, 4]])"
            ]
          },
          "metadata": {
            "tags": []
          },
          "execution_count": 354
        }
      ]
    },
    {
      "cell_type": "code",
      "metadata": {
        "colab": {
          "base_uri": "https://localhost:8080/"
        },
        "id": "L3VpbJsGXanH",
        "outputId": "2dcc88dc-e657-4773-9957-67fe73d5516b"
      },
      "source": [
        "## Performing Circular Convolution\n",
        "\n",
        "y = h@x\n",
        "y = y.reshape((1, y.size))\n",
        "\n",
        "print('y:', y)"
      ],
      "execution_count": null,
      "outputs": [
        {
          "output_type": "stream",
          "text": [
            "y: [[ 4 11 18 25 12]]\n"
          ],
          "name": "stdout"
        }
      ]
    }
  ]
}