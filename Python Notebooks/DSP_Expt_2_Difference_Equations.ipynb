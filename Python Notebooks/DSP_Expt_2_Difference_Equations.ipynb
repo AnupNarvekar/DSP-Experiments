{
  "nbformat": 4,
  "nbformat_minor": 0,
  "metadata": {
    "colab": {
      "name": "DSP Expt 2: Difference Equations.ipynb",
      "provenance": [],
      "collapsed_sections": []
    },
    "kernelspec": {
      "name": "python3",
      "display_name": "Python 3.9.6 64-bit"
    },
    "language_info": {
      "name": "python",
      "version": "3.9.6"
    },
    "interpreter": {
      "hash": "14e607f32372580933448cbeb63cbbffc7dd2d91a113db0f3cdbf3b1c53a5460"
    }
  },
  "cells": [
    {
      "cell_type": "markdown",
      "metadata": {
        "id": "LLe5GNvVs-fp"
      },
      "source": [
        "**Coefficients of A**"
      ]
    },
    {
      "cell_type": "code",
      "metadata": {
        "colab": {
          "base_uri": "https://localhost:8080/"
        },
        "id": "m7yFXi1_JRxO",
        "outputId": "c9f6ab2a-4494-4952-cf71-f3f1b9330e21"
      },
      "source": [
        "a = list( map(float, input('Enter the values of coefficients of A : ').split() )  ) # a = [ 1, 2, 3]\n",
        "\n",
        "N = len(a)"
      ],
      "execution_count": 1,
      "outputs": []
    },
    {
      "cell_type": "markdown",
      "metadata": {
        "id": "wufKTCYFtVRc"
      },
      "source": [
        "**Coefficients of B**"
      ]
    },
    {
      "cell_type": "code",
      "metadata": {
        "colab": {
          "base_uri": "https://localhost:8080/"
        },
        "id": "kmgKU1UmJeji",
        "outputId": "dfd05692-b8ba-4844-a6ca-6491364f968d"
      },
      "source": [
        "b = list( map(float, input('Enter the values of coefficients of B : ').split() )  )    # b = [3, 2, 1]\n",
        "\n",
        "M = len(b)"
      ],
      "execution_count": 2,
      "outputs": []
    },
    {
      "cell_type": "markdown",
      "metadata": {
        "id": "8uDPRmtLtX6E"
      },
      "source": [
        "**Values of x(n)**"
      ]
    },
    {
      "cell_type": "code",
      "metadata": {
        "colab": {
          "base_uri": "https://localhost:8080/"
        },
        "id": "ChGfdG--JhlT",
        "outputId": "92caf82a-5837-498c-832b-8f8e5847e365"
      },
      "source": [
        "x = list( map(float, input('Enter the values of X(n) : ').split() )  )    # x = [1, 2]\n",
        "\n",
        "L = len(x)"
      ],
      "execution_count": 3,
      "outputs": []
    },
    {
      "cell_type": "code",
      "metadata": {
        "colab": {
          "base_uri": "https://localhost:8080/"
        },
        "id": "jWSh6LXilHrv",
        "outputId": "56c38981-4381-4f2d-ef7a-81c5a58a6c0b"
      },
      "source": [
        "Y = []\n",
        " \n",
        "for n in range (0, L) :\n",
        "    sum_y = 0\n",
        "    sum_x = 0\n",
        " \n",
        "    for k in range (0, min(n, N) ) :\n",
        "        sum_y = sum_y + a[k]*Y[n-k-1]\n",
        " \n",
        "    for k in range (0, min(n, M-1)+1) :\n",
        "        sum_x = sum_x + b[k]*x[n-k]\n",
        " \n",
        "    Y.append(sum_x - sum_y)\n",
        " \n",
        "Y"
      ],
      "execution_count": 4,
      "outputs": [
        {
          "output_type": "execute_result",
          "data": {
            "text/plain": [
              "[3.0, 5.0]"
            ]
          },
          "metadata": {},
          "execution_count": 4
        }
      ]
    },
    {
      "cell_type": "markdown",
      "metadata": {
        "id": "LbYOXUhA2SmN"
      },
      "source": [
        "**Result y(n)**"
      ]
    },
    {
      "cell_type": "code",
      "metadata": {
        "colab": {
          "base_uri": "https://localhost:8080/"
        },
        "id": "w_fG7V_EzeyX",
        "outputId": "bf32e7f8-d9b7-4731-8d0d-012af9a5992c"
      },
      "source": [
        "for index, value in enumerate(Y) :\n",
        "  print('y(',index,') = ', value)"
      ],
      "execution_count": 5,
      "outputs": [
        {
          "output_type": "stream",
          "name": "stdout",
          "text": [
            "y( 0 ) =  3.0\ny( 1 ) =  5.0\n"
          ]
        }
      ]
    }
  ]
}