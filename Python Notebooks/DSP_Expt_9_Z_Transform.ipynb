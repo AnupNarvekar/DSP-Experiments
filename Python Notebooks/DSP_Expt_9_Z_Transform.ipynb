{
  "nbformat": 4,
  "nbformat_minor": 0,
  "metadata": {
    "colab": {
      "name": "DSP Expt 9:  Z Transform.ipynb",
      "provenance": [],
      "collapsed_sections": []
    },
    "kernelspec": {
      "name": "python3",
      "display_name": "Python 3"
    },
    "language_info": {
      "name": "python"
    }
  },
  "cells": [
    {
      "cell_type": "code",
      "metadata": {
        "colab": {
          "base_uri": "https://localhost:8080/"
        },
        "id": "7AdwtrAjudDk",
        "outputId": "55176984-4f96-482f-ad36-4d7c5e7332c8"
      },
      "source": [
        "x = list( map(int, input('Enter the sequence x(n): ').split() )  )  # x = 1, 2, 3, 4'"
      ],
      "execution_count": null,
      "outputs": [
        {
          "output_type": "stream",
          "text": [
            "Enter the sequence x(n): 1 2 3 4\n"
          ],
          "name": "stdout"
        }
      ]
    },
    {
      "cell_type": "code",
      "metadata": {
        "colab": {
          "base_uri": "https://localhost:8080/"
        },
        "id": "2QVTt3qfvIPG",
        "outputId": "ee312ada-4452-4c6f-ce62-d0cda04b488e"
      },
      "source": [
        "n = len(x)\n",
        "n"
      ],
      "execution_count": null,
      "outputs": [
        {
          "output_type": "execute_result",
          "data": {
            "text/plain": [
              "4"
            ]
          },
          "metadata": {
            "tags": []
          },
          "execution_count": 2
        }
      ]
    },
    {
      "cell_type": "code",
      "metadata": {
        "colab": {
          "base_uri": "https://localhost:8080/"
        },
        "id": "ORpOPgCWvIcn",
        "outputId": "a01a65aa-d539-4369-d7a1-08d63872a9d6"
      },
      "source": [
        "total=0\n",
        "z=1.41421356237 + 0.707106781185j\n",
        "\n",
        "for i in range(0,n):\n",
        "  total = total + x[i] * (z**(-i))\n",
        "\n",
        "print('X(z) =', total)"
      ],
      "execution_count": null,
      "outputs": [
        {
          "output_type": "stream",
          "text": [
            "X(z) = (3.032390185889048-2.5212917728718733j)\n"
          ],
          "name": "stdout"
        }
      ]
    }
  ]
}