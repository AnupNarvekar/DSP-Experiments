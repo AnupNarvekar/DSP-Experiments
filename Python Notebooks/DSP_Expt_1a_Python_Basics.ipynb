{
  "nbformat": 4,
  "nbformat_minor": 0,
  "metadata": {
    "colab": {
      "name": "DSP Expt 1a: Python Basics.ipynb",
      "provenance": [],
      "collapsed_sections": []
    },
    "kernelspec": {
      "name": "python3",
      "display_name": "Python 3"
    },
    "language_info": {
      "name": "python"
    }
  },
  "cells": [
    {
      "cell_type": "markdown",
      "metadata": {
        "id": "hwlOZiKgMggR"
      },
      "source": [
        "**Variables**\n",
        "\n",
        "Variables are containers for storing data values."
      ]
    },
    {
      "cell_type": "code",
      "metadata": {
        "id": "p33L0FoHMeKI",
        "colab": {
          "base_uri": "https://localhost:8080/"
        },
        "outputId": "5fc03267-6066-4797-9e66-5f9bef42c81c"
      },
      "source": [
        "string = 'This text is stored in variable \\'String\\''\n",
        "print(string)"
      ],
      "execution_count": null,
      "outputs": [
        {
          "output_type": "stream",
          "text": [
            "This text is stored in variable 'String'\n"
          ],
          "name": "stdout"
        }
      ]
    },
    {
      "cell_type": "markdown",
      "metadata": {
        "id": "vVM9r0_cWLwY"
      },
      "source": [
        "**Data Types**\n",
        "\n",
        "A data type is a classification of data which tells the compiler or interpreter how the programmer intends to use the data\n"
      ]
    },
    {
      "cell_type": "code",
      "metadata": {
        "id": "zvlmRUHyWUKP"
      },
      "source": [
        "## 1. Text Type\n",
        "\n",
        "#Str\n",
        "# A string or Str is a sequence of characters stored in some variable.\n",
        "# Strings in python are surrounded by either single quotation marks, or double\n",
        "# quotation marks.\n",
        "\n",
        "x = \"I'm a string\"\n",
        "y = 'I\\'m also a string'"
      ],
      "execution_count": null,
      "outputs": []
    },
    {
      "cell_type": "code",
      "metadata": {
        "colab": {
          "base_uri": "https://localhost:8080/"
        },
        "id": "IP_cmIQK1mV1",
        "outputId": "0d9ff02e-33a1-4521-9cc6-44d01917b4b3"
      },
      "source": [
        "## 2. Numeric Types\n",
        "\n",
        "# Int \n",
        "# Int, or integer, is a whole number, positive or negative, without decimals, of\n",
        "# unlimited length.\n",
        "\n",
        "x = 23\n",
        "\n",
        "# Float\n",
        "# Float, or \"floating point number\" is a number, positive or negative,\n",
        "# containing one or more decimals.\n",
        "\n",
        "x = 23.4\n",
        "\n",
        "# Complex\n",
        "# A complex number is a number that can be expressed in the form a + bi,\n",
        "# where a and b are real numbers, and i is a symbol called the imaginary unit,\n",
        "# and satisfying the equation i2 = -1\n",
        "# In python, complex numbers are written with a \"j\" as the imaginary part\n",
        "# instead of conventional \"i\"\n",
        "\n",
        "x = 12j\n",
        "type(x)"
      ],
      "execution_count": null,
      "outputs": [
        {
          "output_type": "execute_result",
          "data": {
            "text/plain": [
              "complex"
            ]
          },
          "metadata": {
            "tags": []
          },
          "execution_count": 244
        }
      ]
    },
    {
      "cell_type": "code",
      "metadata": {
        "colab": {
          "base_uri": "https://localhost:8080/"
        },
        "id": "_jkE6EkC08DY",
        "outputId": "a83bbc09-2a93-4b57-cc5f-dfba8e11cb03"
      },
      "source": [
        "## 3. Sequence Types\n",
        "\n",
        "# List\n",
        "# Lists are used to store multiple items in a single variable. Lists are created\n",
        "# using square brackets\n",
        "# List items are ordered, changeable, and allow duplicate values.\n",
        "\n",
        "x = [\"apple\", \"banana\", \"cherry\"]\n",
        "\n",
        "for index, value in enumerate(x):\n",
        "  print(value + ' is at index: ', index) "
      ],
      "execution_count": null,
      "outputs": [
        {
          "output_type": "stream",
          "text": [
            "apple is at index:  0\n",
            "banana is at index:  1\n",
            "cherry is at index:  2\n"
          ],
          "name": "stdout"
        }
      ]
    },
    {
      "cell_type": "code",
      "metadata": {
        "colab": {
          "base_uri": "https://localhost:8080/"
        },
        "id": "dl-btXuI08Qb",
        "outputId": "1123fc0a-79e9-4814-b3c7-fb29de33c17f"
      },
      "source": [
        "# Tuple\n",
        "# A tuple is a collection of dat which is ordered and unchangeable. Tuples are\n",
        "# written with round brackets.\n",
        "# Tuples items are ordered, unchangeable, and allow duplicate values.\n",
        "\n",
        "x = (\"apple\", \"banana\", \"cherry\")\n",
        "\n",
        "for i in x:\n",
        "  print(i)"
      ],
      "execution_count": null,
      "outputs": [
        {
          "output_type": "stream",
          "text": [
            "apple\n",
            "banana\n",
            "cherry\n"
          ],
          "name": "stdout"
        }
      ]
    },
    {
      "cell_type": "code",
      "metadata": {
        "id": "o0iGQZVd08ZZ"
      },
      "source": [
        "# Range\n",
        "# The range(start, stop, step) function returns a sequence of numbers, starting\n",
        "# from 'start' (inclusive) (0 by default),\n",
        "# and increments by 'step' (1 by default), and stops before 'stop' (exclusive),\n",
        "# which is a specified number.\n",
        "\n",
        "x = range(6)  # => 0 to 5 \n",
        "y = range(10, 20, 2)  # => 10, 12, 14, 16, 18"
      ],
      "execution_count": null,
      "outputs": []
    },
    {
      "cell_type": "code",
      "metadata": {
        "colab": {
          "base_uri": "https://localhost:8080/"
        },
        "id": "5LXJ9Rqd08gj",
        "outputId": "42a2bdbb-efdd-46fb-bc6f-2023e52f48b6"
      },
      "source": [
        "## 4. Mapping Type\n",
        "  \n",
        "# Dict\n",
        "# Dictionaries are used to store data values in key:value pairs.\n",
        "# A dictionary items are ordered (unordered <= Python v3,6), changeable and\n",
        "# does not allow duplicates.\n",
        "\n",
        "x = {\"name\" : \"John\", \"age\" : 36}\n",
        "\n",
        "for i in x :\n",
        "  print(x)"
      ],
      "execution_count": null,
      "outputs": [
        {
          "output_type": "stream",
          "text": [
            "{'name': 'John', 'age': 36}\n",
            "{'name': 'John', 'age': 36}\n"
          ],
          "name": "stdout"
        }
      ]
    },
    {
      "cell_type": "code",
      "metadata": {
        "colab": {
          "base_uri": "https://localhost:8080/"
        },
        "id": "XGaTGyWE08oD",
        "outputId": "f462d16e-14dd-401e-ebc5-7a30154e5728"
      },
      "source": [
        "## 5. Set Types\n",
        "\n",
        "# Sets are used to store multiple items in a single variable.\n",
        "# Set itmes are unordered, unindexed, unchangable and doesn't allow duplicates\n",
        "\n",
        "x = {\"apple\", \"banana\", \"cherry\"}\n",
        "\n",
        "for i in x:\n",
        "  print(i)\n",
        "  \n",
        "# Python Frozen set is just an immutable version of a Python set object.\n",
        "# While elements of a set can be modified at any time (but not possile),\n",
        "# elements of the frozen set remain the same after creation. Due to this,\n",
        "# frozen sets can be used as keys in Dictionary or as elements of another set.\n",
        "\n",
        "x = frozenset({\"apple\", \"banana\", \"cherry\"})"
      ],
      "execution_count": null,
      "outputs": [
        {
          "output_type": "stream",
          "text": [
            "banana\n",
            "cherry\n",
            "apple\n"
          ],
          "name": "stdout"
        }
      ]
    },
    {
      "cell_type": "code",
      "metadata": {
        "colab": {
          "base_uri": "https://localhost:8080/"
        },
        "id": "vO0TU76j08v4",
        "outputId": "0f76799c-ceb4-438f-806b-c55607c3d395"
      },
      "source": [
        "## 6. Boolean Type\n",
        "\n",
        "# Bool\n",
        "# Boolean or bool is a data type with two possible values: True or False.\n",
        "\n",
        "x = True\n",
        "type(x)\n"
      ],
      "execution_count": null,
      "outputs": [
        {
          "output_type": "execute_result",
          "data": {
            "text/plain": [
              "bool"
            ]
          },
          "metadata": {
            "tags": []
          },
          "execution_count": 250
        }
      ]
    },
    {
      "cell_type": "markdown",
      "metadata": {
        "id": "fdgZ01FeWUq3"
      },
      "source": [
        "**Operators**\n",
        "\n",
        "Operators are used to perform operations on variables and values.\n",
        "\n"
      ]
    },
    {
      "cell_type": "code",
      "metadata": {
        "id": "4AiarlJsWVLv",
        "colab": {
          "base_uri": "https://localhost:8080/"
        },
        "outputId": "1916833a-a40a-4089-dc9b-18ed0f2e29e3"
      },
      "source": [
        "## Types of operators in python\n",
        "\n",
        "# Arithmetic operators\n",
        "# Arithmetic operators are used with numeric values to perform common\n",
        "# mathematical operations:\n",
        "# Available arithmetic operators: + (Addition), - (Subtraction),\n",
        "# * (Multiplication), ** (Exponentiation), / (Division), % (Modulus),\n",
        "# // (Floor division)\n",
        "\n",
        "x = ((10 + 40 - 70 * 2 / 25)**2) % 2\n",
        "print(x)"
      ],
      "execution_count": null,
      "outputs": [
        {
          "output_type": "stream",
          "text": [
            "1.3599999999999\n"
          ],
          "name": "stdout"
        }
      ]
    },
    {
      "cell_type": "code",
      "metadata": {
        "id": "TeEqha6K4fUw"
      },
      "source": [
        "# Assignment operators\n",
        "# Assignment operators are used to assign values to variables:\n",
        "\n",
        "# Available assignment operators: = (equality)\n",
        "\n",
        "x = 5"
      ],
      "execution_count": null,
      "outputs": []
    },
    {
      "cell_type": "code",
      "metadata": {
        "colab": {
          "base_uri": "https://localhost:8080/"
        },
        "id": "AzBGmV854fZr",
        "outputId": "ece346a5-7d0b-466e-f9d6-b21dae851476"
      },
      "source": [
        "# Comparison operators\n",
        "# Comparison operators are used to compare two values:\n",
        "# Available comparison operators: == (Equal), != (Not equal), > (Greater than),\n",
        "# < (Less than), >= (Greater than or equal to), <= (Less than or equal to)\n",
        "\n",
        "x = 10\n",
        "if(x <= 10):\n",
        "  print('X is less than 10')"
      ],
      "execution_count": null,
      "outputs": [
        {
          "output_type": "stream",
          "text": [
            "X is less than 10\n"
          ],
          "name": "stdout"
        }
      ]
    },
    {
      "cell_type": "code",
      "metadata": {
        "colab": {
          "base_uri": "https://localhost:8080/"
        },
        "id": "GbCwa0Df4feM",
        "outputId": "1e45a7fb-576f-43af-81de-da13af5dc816"
      },
      "source": [
        "# Logical operators\n",
        "# Logical operators are used to combine conditional statements:\n",
        "# Available logocal operators: and (Returns True if both statements are true),\n",
        "# or (Returns True if one of the statements is true),\n",
        "# not (Reverse the result, returns False if the result is true)\n",
        "\n",
        "x = 5\n",
        "y = 10\n",
        "if(x < 10) and ((x <= 5) or (y>=10)):\n",
        "  print(\"True\")"
      ],
      "execution_count": null,
      "outputs": [
        {
          "output_type": "stream",
          "text": [
            "True\n"
          ],
          "name": "stdout"
        }
      ]
    },
    {
      "cell_type": "code",
      "metadata": {
        "colab": {
          "base_uri": "https://localhost:8080/"
        },
        "id": "SAJwH24a4fjW",
        "outputId": "87a65aa5-9ec8-45ff-ee28-be58673251f8"
      },
      "source": [
        "# Identity operators\n",
        "# Identity operators are used to compare the objects, not if they are equal,\n",
        "# but if they are actually the same object, with the same memory location:\n",
        "# Available identity operators: is (Returns True if both variables are the same\n",
        "# object), is not (Returns True if both variables are not the same object)\n",
        "x = 5\n",
        "y = 10\n",
        "\n",
        "if (x is y):\n",
        "  print('Yes, x is y')\n",
        "elif (x is not y):\n",
        "  print('No, x is not y')"
      ],
      "execution_count": null,
      "outputs": [
        {
          "output_type": "stream",
          "text": [
            "No, x is not y\n"
          ],
          "name": "stdout"
        }
      ]
    },
    {
      "cell_type": "code",
      "metadata": {
        "colab": {
          "base_uri": "https://localhost:8080/"
        },
        "id": "SxQEtTGI4fwV",
        "outputId": "2ffaf592-16a3-4be7-91e0-c20642910873"
      },
      "source": [
        "# Membership operators\n",
        "# Membership operators are used to test if a sequence is presented in an object\n",
        "# Available membership operators: in (Returns True if a sequence with the\n",
        "# specified value is present in the object,\n",
        "# not in (Returns True if a sequence with the specified value is not present\n",
        "# in the object)\n",
        "\n",
        "for i in 'DSP':\n",
        "  print(i)"
      ],
      "execution_count": null,
      "outputs": [
        {
          "output_type": "stream",
          "text": [
            "D\n",
            "S\n",
            "P\n"
          ],
          "name": "stdout"
        }
      ]
    },
    {
      "cell_type": "code",
      "metadata": {
        "colab": {
          "base_uri": "https://localhost:8080/"
        },
        "id": "AkNXuWbJ4f5l",
        "outputId": "d973a1d6-4a21-4f86-e53b-32d922def0fb"
      },
      "source": [
        "# Bitwise operators\n",
        "# Bitwise operators are used to compare (binary) numbers:\n",
        "# Available bitwise operators: & (AND), | (OR), ^ (XOR), ~ (NOT),\n",
        "# << (Zero fill left shift, meaning Shift left by pushing zeros in from the\n",
        "# right and let the leftmost bits fall off),\n",
        "# >> (Signed right shift, meaning it Shift right by pushing copies of the\n",
        "# leftmost bit in from the left, and let the rightmost bits fall off ) \n",
        "\n",
        "a = 10 >> 1\n",
        "print(a)"
      ],
      "execution_count": null,
      "outputs": [
        {
          "output_type": "stream",
          "text": [
            "5\n"
          ],
          "name": "stdout"
        }
      ]
    },
    {
      "cell_type": "markdown",
      "metadata": {
        "id": "rTF9V9dYWV4H"
      },
      "source": [
        "**Selection statements / Decision Control statements / Branching Statements**\n",
        "\n",
        "The selection statement allows a program to test several conditions and execute instructions based on which condition is true."
      ]
    },
    {
      "cell_type": "code",
      "metadata": {
        "id": "kmB-LCQrWWW3",
        "colab": {
          "base_uri": "https://localhost:8080/"
        },
        "outputId": "468ec398-9016-438b-f274-56575cfdfa97"
      },
      "source": [
        "x = 20\n",
        "if (x <= 16):\n",
        "  print('x is less than or equal to 16')\n",
        "elif (x <= 18):\n",
        "  print('x is less than or equal to 18')\n",
        "else :\n",
        "  print('X is greater than 20')"
      ],
      "execution_count": null,
      "outputs": [
        {
          "output_type": "stream",
          "text": [
            "X is greater than 20\n"
          ],
          "name": "stdout"
        }
      ]
    },
    {
      "cell_type": "markdown",
      "metadata": {
        "id": "N0bMXU_2WWn_"
      },
      "source": [
        "**Repetition statements**"
      ]
    },
    {
      "cell_type": "code",
      "metadata": {
        "id": "kr9KyeWWWXBn",
        "colab": {
          "base_uri": "https://localhost:8080/"
        },
        "outputId": "ce26feb8-50de-45be-b62b-bf7eec7ce1b1"
      },
      "source": [
        "# 1. for\n",
        "# Executes a sequence of statements multiple times and abbreviates the code that\n",
        "# manages the loop variable.\n",
        "\n",
        "for i in range(5):\n",
        "  print('This is iteration: ', i)"
      ],
      "execution_count": null,
      "outputs": [
        {
          "output_type": "stream",
          "text": [
            "This is iteration:  0\n",
            "This is iteration:  1\n",
            "This is iteration:  2\n",
            "This is iteration:  3\n",
            "This is iteration:  4\n"
          ],
          "name": "stdout"
        }
      ]
    },
    {
      "cell_type": "code",
      "metadata": {
        "colab": {
          "base_uri": "https://localhost:8080/"
        },
        "id": "AXW5z8te8esd",
        "outputId": "3b0c8fad-4a13-41ee-dfb2-0020893eb819"
      },
      "source": [
        "# 2. while\n",
        "# Repeats a statement or group of statements while a given condition is TRUE.\n",
        "# It tests the condition before executing the loop body.\n",
        "\n",
        "x = 5\n",
        "while (x >= 3 ):\n",
        "  print(x)\n",
        "  x = x-1"
      ],
      "execution_count": null,
      "outputs": [
        {
          "output_type": "stream",
          "text": [
            "5\n",
            "4\n",
            "3\n"
          ],
          "name": "stdout"
        }
      ]
    },
    {
      "cell_type": "markdown",
      "metadata": {
        "id": "TA_8xmwvWXNX"
      },
      "source": [
        "**Functions**\n",
        "\n",
        "A function is a block of code which only runs when it is called."
      ]
    },
    {
      "cell_type": "code",
      "metadata": {
        "id": "mkGqzElWWXdn",
        "colab": {
          "base_uri": "https://localhost:8080/"
        },
        "outputId": "1b033421-b50a-4452-af09-ac55031fbb12"
      },
      "source": [
        "def useful_function():\n",
        "  for i in 'useful':\n",
        "    print('I swear I\\'m very useful!')\n",
        " \n",
        "useful_function()"
      ],
      "execution_count": null,
      "outputs": [
        {
          "output_type": "stream",
          "text": [
            "I swear I'm very useful!\n",
            "I swear I'm very useful!\n",
            "I swear I'm very useful!\n",
            "I swear I'm very useful!\n",
            "I swear I'm very useful!\n",
            "I swear I'm very useful!\n"
          ],
          "name": "stdout"
        }
      ]
    },
    {
      "cell_type": "markdown",
      "metadata": {
        "id": "fFMjHxkAWXs3"
      },
      "source": [
        "**Arrays**\n",
        "\n",
        "An array is a collection of similar multiple items, stored at contiguous memory locations."
      ]
    },
    {
      "cell_type": "code",
      "metadata": {
        "id": "X1057GIUWX33",
        "colab": {
          "base_uri": "https://localhost:8080/"
        },
        "outputId": "753ab32b-fe59-48da-f37d-fd44492f6c5a"
      },
      "source": [
        "import array as arr\n",
        "\n",
        "integerAray = arr.array('i', [1,2,3,4,5,6,7,8,9,10])\n",
        "sum = 0\n",
        "\n",
        "for i in integerAray:\n",
        "  sum = sum + i\n",
        "\n",
        "print(sum)\n"
      ],
      "execution_count": null,
      "outputs": [
        {
          "output_type": "stream",
          "text": [
            "55\n"
          ],
          "name": "stdout"
        }
      ]
    },
    {
      "cell_type": "markdown",
      "metadata": {
        "id": "CtOgAdvNWYE3"
      },
      "source": [
        "**User input**\n",
        "\n",
        "Allows the user to enter input at run time."
      ]
    },
    {
      "cell_type": "code",
      "metadata": {
        "id": "HdyClbsaWYRX",
        "colab": {
          "base_uri": "https://localhost:8080/"
        },
        "outputId": "54fae703-b07d-4c20-f75c-61bd1a37af68"
      },
      "source": [
        "# using input() method\n",
        "\n",
        "num = input(\"Enter a number: \")\n",
        "print('You entered: ', num)"
      ],
      "execution_count": null,
      "outputs": [
        {
          "output_type": "stream",
          "text": [
            "Enter a number: 5\n",
            "You entered:  5\n"
          ],
          "name": "stdout"
        }
      ]
    },
    {
      "cell_type": "markdown",
      "metadata": {
        "id": "9zUV2YaiWYdv"
      },
      "source": [
        "**Control statements**\n",
        "\n",
        "Loop control statements change execution from its normal sequence. When execution leaves a scope, all automatic objects that were created in that scope are destroyed."
      ]
    },
    {
      "cell_type": "code",
      "metadata": {
        "id": "juV-sztfWYq_",
        "colab": {
          "base_uri": "https://localhost:8080/"
        },
        "outputId": "069a316a-17cc-4c7b-9be6-e4e6fd6755ae"
      },
      "source": [
        "# 1. break\n",
        "# Terminates the loop statement and transfers execution to the statement\n",
        "# immediately following the loop\n",
        "\n",
        "# Stop printing letters if 's' is encountered\n",
        "for letter in 'DigitalSignalProcessing':\n",
        "    if (letter == 's' or letter == 'S') :\n",
        "      break\n",
        "    print(letter)"
      ],
      "execution_count": null,
      "outputs": [
        {
          "output_type": "stream",
          "text": [
            "D\n",
            "i\n",
            "g\n",
            "i\n",
            "t\n",
            "a\n",
            "l\n"
          ],
          "name": "stdout"
        }
      ]
    },
    {
      "cell_type": "code",
      "metadata": {
        "colab": {
          "base_uri": "https://localhost:8080/"
        },
        "id": "LpQuN61m8t9X",
        "outputId": "9cd50d3a-9f52-4729-9d7e-cd2825359352"
      },
      "source": [
        "# 2. Continue\n",
        "# Causes the loop to skip the remainder of its body and immediately retest its\n",
        "# condition prior to reiterating.\n",
        "\n",
        "# Prints all letters except 'e' and 's'\n",
        "for letter in 'Signal':\n",
        "    if letter == 'a' or letter == 'l':\n",
        "      continue\n",
        "    print(letter)"
      ],
      "execution_count": null,
      "outputs": [
        {
          "output_type": "stream",
          "text": [
            "S\n",
            "i\n",
            "g\n",
            "n\n"
          ],
          "name": "stdout"
        }
      ]
    },
    {
      "cell_type": "code",
      "metadata": {
        "colab": {
          "base_uri": "https://localhost:8080/"
        },
        "id": "TtILmAqt8uGk",
        "outputId": "c0685cd6-e526-40bc-f105-230b61ec840b"
      },
      "source": [
        "# 3. pass\n",
        "# The pass statement in Python is used when a statement is required\n",
        "# syntactically but you do not want any command or code to execute.\n",
        "\n",
        "# An empty loop\n",
        "for letter in 'DigitalSignalProcessing':\n",
        "    pass\n",
        "print('Last Letter :', letter)"
      ],
      "execution_count": null,
      "outputs": [
        {
          "output_type": "stream",
          "text": [
            "Last Letter : g\n"
          ],
          "name": "stdout"
        }
      ]
    },
    {
      "cell_type": "markdown",
      "metadata": {
        "id": "OoSpZx5jWY2n"
      },
      "source": [
        "**Basics of matplotlib**\n",
        "\n",
        "Matplotlib is a comprehensive library for creating static, animated, and interactive visualizations in Python.\n",
        "Most of the Matplotlib utilities lies under the pyplot submodule, and are usually imported under the plt alias:"
      ]
    },
    {
      "cell_type": "code",
      "metadata": {
        "id": "DNhjhmhFXAZQ",
        "colab": {
          "base_uri": "https://localhost:8080/",
          "height": 245
        },
        "outputId": "5548f477-91b5-45e2-dbcc-d604a93bc8c2"
      },
      "source": [
        "import matplotlib.pyplot as plt\n",
        "import numpy as np\n",
        " \n",
        "x = np.arange(0, 6.5, 0.1)\n",
        "y = np.sin(x)\n",
        " \n",
        "plt.plot(x,y)\n",
        "plt.title('Sin(x)')\n",
        "plt.xlabel('x')\n",
        "plt.ylabel('y')"
      ],
      "execution_count": null,
      "outputs": [
        {
          "output_type": "execute_result",
          "data": {
            "text/plain": [
              "Text(0, 0.5, 'y')"
            ]
          },
          "metadata": {
            "tags": []
          },
          "execution_count": 1
        },
        {
          "output_type": "display_data",
          "data": {
            "image/png": "[encoded data removed]",
            "text/plain": [
              "<Figure size 432x288 with 1 Axes>"
            ]
          },
          "metadata": {
            "tags": [],
            "needs_background": "light"
          }
        }
      ]
    }
  ]
}